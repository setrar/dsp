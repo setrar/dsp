{
 "cells": [
  {
   "cell_type": "code",
   "execution_count": 3,
   "id": "ac54f2e8-cb41-4c30-884a-c1feb048c5f5",
   "metadata": {},
   "outputs": [],
   "source": [
    "using Distributions"
   ]
  },
  {
   "cell_type": "code",
   "execution_count": 12,
   "id": "0a82347f-0389-4d0b-8e45-d0e43d8bda0e",
   "metadata": {},
   "outputs": [
    {
     "data": {
      "text/plain": [
       "#1 (generic function with 1 method)"
      ]
     },
     "execution_count": 12,
     "metadata": {},
     "output_type": "execute_result"
    }
   ],
   "source": [
    "ϕ = cdf\n",
    "𝑁 = (μ, σ) -> Normal(μ, σ)"
   ]
  },
  {
   "cell_type": "code",
   "execution_count": 25,
   "id": "0fbb799e-12d2-42f7-8b8a-f519c2bdcd0c",
   "metadata": {},
   "outputs": [
    {
     "name": "stdout",
     "output_type": "stream",
     "text": [
      "cdf at x = 1: 0.841344746068543\n"
     ]
    }
   ],
   "source": [
    "# Define the normal distribution with mean 0 and standard deviation 1 (standard normal)\n",
    "pdf₀ = 𝑁(0,1)\n",
    "\n",
    "# Calculate the CDF for a specific value, e.g., x = 1\n",
    "cdf₁ = ϕ(pdf₀, 1.0)\n",
    "\n",
    "println(\"cdf at x = 1: \", cdf₁)"
   ]
  },
  {
   "cell_type": "code",
   "execution_count": 26,
   "id": "504f9b2a-9180-4a56-8ccd-e12227316762",
   "metadata": {},
   "outputs": [
    {
     "name": "stdout",
     "output_type": "stream",
     "text": [
      "cdf at x = 5 for non-standard normal distribution: 0.841344746068543\n"
     ]
    }
   ],
   "source": [
    "# Define a normal distribution with mean mu and standard deviation sigma\n",
    "μ = 2.0\n",
    "σ = 3.0\n",
    "pdf₂ = 𝑁(μ, σ)\n",
    "\n",
    "# Calculate the CDF for a specific value, e.g., x = 5\n",
    "cdf₅ = ϕ(pdf₂, 5.0)\n",
    "\n",
    "println(\"cdf at x = 5 for non-standard normal distribution: \", cdf₅)\n"
   ]
  },
  {
   "cell_type": "code",
   "execution_count": null,
   "id": "c1c32453-59a5-4bb7-979a-48adcdd86dd4",
   "metadata": {},
   "outputs": [],
   "source": []
  }
 ],
 "metadata": {
  "kernelspec": {
   "display_name": "Julia 1.9.3",
   "language": "julia",
   "name": "julia-1.9"
  },
  "language_info": {
   "file_extension": ".jl",
   "mimetype": "application/julia",
   "name": "julia",
   "version": "1.10.0"
  }
 },
 "nbformat": 4,
 "nbformat_minor": 5
}

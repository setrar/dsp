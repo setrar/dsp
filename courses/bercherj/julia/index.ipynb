{
 "cells": [
  {
   "cell_type": "markdown",
   "metadata": {},
   "source": [
    "<div align=left style=\"color: blue; font-size: 200%; font-family: sans-serif; font-weight: bold\" > \n",
    "A Journey in Signal Processing with Jupyter\n",
    "</div>"
   ]
  },
  {
   "cell_type": "markdown",
   "metadata": {},
   "source": [
    "<div align=right  > \n",
    "<a style=\"color: blue; font-size: 120%; font-family: sans-serif; font-weight: bold\" href=\"Poly.pdf\"> [PDF Version]</a>  \n",
    "</div>"
   ]
  },
  {
   "cell_type": "markdown",
   "metadata": {},
   "source": [
    "<div align=right>  J.-F. Bercher</div>"
   ]
  },
  {
   "cell_type": "markdown",
   "metadata": {},
   "source": [
    "![Alt text](jolie_fin_de_page.png)"
   ]
  },
  {
   "cell_type": "markdown",
   "metadata": {},
   "source": [
    "# Table of Contents"
   ]
  },
  {
   "cell_type": "markdown",
   "metadata": {},
   "source": [
    "[I - Effects of delays and scaling on signals](DelaysAndScales.ipynb)\n",
    "\n",
    "We present some examples of signals and stress to elementary, but so useful properties: delaying and scaling a signal.\n",
    "\n",
    "[II - A basic introduction to filtering](Intro_Filtering.ipynb)\n",
    "\n",
    "Through examples, we define several operations on signals and show how they transform them. Then we define what is a filter and the notion of impulse response.   \n",
    "\n",
    "- [Transformations of signals - Examples of difference equations](Intro_Filtering.ipynb#difference_equations)\n",
    "- [Filters](Intro_Filtering.ipynb#filters)\n",
    "- [Notion of impulse response](Intro_Filtering.ipynb#impulse_response)\n",
    "\n",
    "[III -Introduction to the Fourier representation](Intro_Fourier.ipynb)\n",
    "\n",
    "It is shown and explained that any periodic signal can be perfectly decomposed as a sum of sine waves. This is the essence of Fourier series. Several examples are worked out, both theoretically and numerically. \n",
    "\n",
    "- [Simple examples](Intro_Fourier.ipynb#simple_examples)\n",
    "- [Decomposition on basis - scalar producs](Intro_Fourier.ipynb#decomposition)\n",
    "- [Decomposition of periodic functions -- Fourier series](Intro_Fourier.ipynb#Fourier_series)\n",
    "- [Complex Fourier series](Intro_Fourier.ipynb#Complex_Fourier_series)\n",
    "- [Computer experiment](Intro_Fourier.ipynb#Compute_exp)\n",
    "- [Towards Fourier transform](Intro_Fourier.ipynb#Towards_the_FT)\n",
    "\n",
    "\n",
    "[IV - Fourier transform](Fourier_transform.ipynb)\n",
    "\n",
    "In this section, we go from the Fourier series to the Fourier transform for discrete signal. \n",
    "So doing, we also introduce the notion of Discrete Fourier Transform that we will study in more details later. For now, we focus on the representations in the frequency domain, detail and experiment with some examples. \n",
    "\n",
    "* [From Fourier Series to Fourier transforms](Fourier_transform.ipynb#From-Fourier-Series-to-Fourier-transforms)\n",
    "\t* [Introduction and definitions](Fourier_transform.ipynb#Introduction-and-definitions)\n",
    "\t* [Examples](Fourier_transform.ipynb#Examples)\n",
    "\t\t* [The Fourier transform of a rectangular window](Fourier_transform.ipynb#The-Fourier-transform-of-a-rectangular-window)\n",
    "\t\t* [Fourier transform of a sine wave](Fourier_transform.ipynb#Fourier-transform-of-a-sine-wave)\n",
    "\n",
    "* [Fourier transform properties](Discrete_Time_Fourier_properties.ipynb)\n",
    "\n",
    "[V - Convolution](Convolution.ipynb)\n",
    "* [Filters and convolution](Convolution.ipynb#Filters-and-convolution)\n",
    "\t* [Representation formulas](Convolution.ipynb#Representation-formulas)\n",
    "\t* [ The convolution operation](Convolution.ipynb#The-convolution-operation)\n",
    "\t\t* [Definition](Convolution.ipynb#Definition)\n",
    "\t\t* [Illustration](Convolution.ipynb#Illustration)\n",
    "\t\t* [Exercises](Convolution.ipynb#Exercises)\n",
    "* [Transfer function](TransferFunctions.ipynb#Transfer-function)\n",
    "\t* [The Plancherel relation](TransferFunctions.ipynb#The-Plancherel-relation)\n",
    "\t* [Consequences](TransferFunctions.ipynb#Consequences)\n",
    "\n",
    "\n",
    "[VI - Lab on Basic System Representations](Exercises_BasicSystemsRepr.ipynb)\n",
    "* [Text](Exercises_BasicSystemsRepr.ipynb)\n",
    "* [Correction](BasicSystemsRepr.ipynb)    \n",
    "\n",
    "        "
   ]
  },
  {
   "cell_type": "markdown",
   "metadata": {},
   "source": [
    "[VII - The continuous time case](Continuous_time_case.ipynb)\n",
    "\n",
    "* [The continuous time case](Continuous_time_case.ipynb#The-continuous-time-case)\n",
    "\t* [The continuous time Fourier transform](Continuous_time_case.ipynb#The-continuous-time-Fourier-transform)\n",
    "\t\t* [Definition](Continuous_time_case.ipynb#Definition)\n",
    "\t\t* [Example -  The Fourier transform of a rectangular pulse](Continuous_time_case.ipynb#Example----The-Fourier-transform-of-a-rectangular-pulse)\n",
    "\t\t* [Table of Fourier transform properties](Continuous_time_case.ipynb#Table-of-Fourier-transform-properties)\n",
    "\t\t* [Symmetries of the Fourier transform. ](Continuous_time_case.ipynb#Symmetries-of-the-Fourier-transform.)\n",
    "\t* [Dirac impulse, representation formula and convolution](Continuous_time_case.ipynb#Dirac-impulse,-representation-formula-and-convolution)\n",
    "\n",
    "\n",
    "VIII - [Periodization, discretization and sampling](Periodization_discretization.ipynb)\n",
    "\n",
    "  * [Periodization-discretization duality](Periodization_discretization.ipynb#Periodization-discretization-duality)\n",
    "\t* [Relation between Fourier series and Fourier transform](Periodization_discretization.ipynb#Relation-between-Fourier-series-and-Fourier-transform)\n",
    "\t* [Poisson summation formulas](Periodization_discretization.ipynb#Poisson-summation-formulas)\n",
    "  * [The Discrete Fourier Transform](DFT.ipynb#The-Discrete-Fourier-Transform)\n",
    "\t* [The Discrete Fourier Transform: Sampling the discrete-time Fourier transform](DFT.ipynb#The-Discrete-Fourier-Transform:-Sampling-the-discrete-time-Fourier-transform)\n",
    "\t* [The DFT as a change of basis](DFT.ipynb#The-DFT-as-a-change-of-basis)\n",
    "\t* [Time-shift property](DFT.ipynb#Time-shift-property)\n",
    "\t* [Circular convolution](DFT.ipynb#Circular-convolution)\n",
    "  * [(Sub)-Sampling of time signals](Sampling.ipynb#%28Sub%29-Sampling-of-time-signals)\n",
    "\t * [The sampling theorem](Sampling.ipynb#The-sampling-theorem)\n",
    "\t * [Derivation in the case of discrete-time signals](Sampling.ipynb#Derivation-in-the-case-of-discrete-time-signals)\n",
    "\t * [Case of continuous-time signals.](Sampling.ipynb#Case-of-continuous-time-signals.)\n",
    "\t * [Illustrations](Sampling.ipynb#Illustrations)\n",
    "     * [Lab on basics in image processing](LabImages_text.ipynb#Lab-on-basic-image-processing)\n",
    "\n",
    "IX - [Lab on basics in image processing (text)](LabImages_text.ipynb#Lab-on-basic-image-processing)\n",
    "  * [Correction](LabImages_correction.ipynb)\n",
    "    * [Introduction](LabImages_correction.ipynb#Introduction)\n",
    "    * [Frequency representation -- Filtering in the frequency domain](LabImages_correction.ipynb#Frequency-representation----Filtering-in-the-frequency-domain)\n",
    "      * [A pretty sine wave](LabImages_correction.ipynb#A-pretty-sine-wave)\n",
    "    * [Playing with Barbara -- Filtering in the frequency domain](LabImages_correction.ipynb#Playing-with-Barbara----Filtering-in-the-frequency-domain)  \n",
    "    * [Filtering by convolution](LabImages_correction.ipynb#Filtering-by-convolution)"
   ]
  },
  {
   "cell_type": "markdown",
   "metadata": {},
   "source": [
    "X - [Digital filters](DigitalFilters.ipynb)\n",
    "\n",
    "* Introduction\n",
    "* The z-transform\n",
    "* [Pole-zero locations and transfer functions behavior](ZerosPoles.ipynb#Pole-zero-locations-and-transfer-functions-behavior)\n",
    "\t* [Analysis of no-pole transfer functions](ZerosPoles.ipynb#Analysis-of-no-pole-transfer-functions)\n",
    "\t* [Analysis of all-poles transfer functions](ZerosPoles.ipynb#Analysis-of-all-poles-transfer-functions)\n",
    "\t* [General transfer functions](ZerosPoles.ipynb#General-transfer-functions)\n",
    "\t* [Appendix -- listing of the class ZerosPolesPlay](ZerosPoles.ipynb#Appendix----listing-of-the-class-ZerosPolesPlay)\n",
    "* [Synthesis of FIR filters](FIR_synthesis.ipynb)\n",
    "    * [Synthesis by sampling in the frequency domain](FIR_synthesis.ipynb#Synthesis-by-sampling-in-the-frequency-domain)\n",
    "    * [Synthesis by the window method](FIR_synthesis.ipynb#Synthesis-by-the-window-method)\n",
    "* [Synthesis of IIR filters by the bilinear transformation method](Bilinear_synthesis.ipynb#Synthesis-of-IIR-filters-by-the-bilinear-transformation-method)\n",
    "\t* [The bilinear transform](Bilinear_synthesis.ipynb#The-bilinear-transform)\n",
    "\t* [Synthesis of low-pass filters -- procedure](Bilinear_synthesis.ipynb#Synthesis-of-low-pass-filters----procedure)\n",
    "\t* [Synthesis of other type of filters](Bilinear_synthesis.ipynb#Synthesis-of-other-type-of-filters)\n",
    "\t* [Numerical results](Bilinear_synthesis.ipynb#Numerical-results)"
   ]
  },
  {
   "cell_type": "markdown",
   "metadata": {},
   "source": [
    "[XI - Lab on Basic Filtering Problems](BasicFiltering_text.ipynb)\n",
    "* [Text](BasicFiltering_text.ipynb)\n",
    "* [Correction](BasicFiltering_correction.ipynb)   "
   ]
  },
  {
   "cell_type": "markdown",
   "metadata": {},
   "source": [
    "[XII - Random Signals](Lecture1_RandomSignals.ipynb)\n",
    "\n",
    "* [Introduction to Random Signals](Lecture1_RandomSignals.ipynb#Introduction-to-Random-Signals)\n",
    "* [Fundamental properties](Lecture1_RandomSignals.ipynb#Fundamental-properties)\n",
    "    * [Stationnarity](Lecture1_RandomSignals.ipynb#Stationnarity)\n",
    "    * [Ergodism](Lecture1_RandomSignals.ipynb#Ergodism)\n",
    "        * [Definition](Lecture1_RandomSignals.ipynb#Definition)\n",
    "    * [Examples of random signals](Lecture1_RandomSignals.ipynb#Examples-of-random-signals)\n",
    "    * [White noise](Lecture1_RandomSignals.ipynb#White-noise)\n",
    "* [Second order analysis](Lecture1_RandomSignals.ipynb#Second-order-analysis)\n",
    "    * [Correlation functions](Lecture1_RandomSignals.ipynb#Correlation-functions)\n",
    "        * [Definition](Lecture1_RandomSignals.ipynb#Definition)\n",
    "        * [Main properties](Lecture1_RandomSignals.ipynb#Main-properties)\n",
    "        * [Estimation of correlation functions](Lecture1_RandomSignals.ipynb#Estimation-of-correlation-functions)\n",
    "        * [Detecting hidden periodicities](Lecture1_RandomSignals.ipynb#Detecting-hidden-periodicities)\n",
    "\n",
    "* [Filtering](Lecture2_RandomSignals.ipynb#Filtering)\n",
    "    * [General relations for cross-correlations](Lecture2_RandomSignals.ipynb#General-relations-for-cross-correlations)\n",
    "    * [By-products](Lecture2_RandomSignals.ipynb#By-products)\n",
    "    * [Examples ](Lecture2_RandomSignals.ipynb#Examples)\n",
    "    * [Correlation matrix](Lecture2_RandomSignals.ipynb#Correlation-matrix)\n",
    "    * [Identification of a filter by cross-correlation](Lecture2_RandomSignals.ipynb#Identification-of-a-filter-by-cross-correlation)\n",
    "\n",
    "* [Analisys in the frequency domain](Lecture3_RandomSignals.ipynb#Analyse-dans-le-domaine-frÃ©quentiel)\n",
    "    * [Notion of Power Spectral Density](Lecture3_RandomSignals.ipynb#Notion-de-densitÃ©-spectrale-de-Puissance)\n",
    "    * [Power spectrum estimation](Lecture3_RandomSignals.ipynb#Power-spectrum-estimation)\n",
    "* [Applications](Lecture3_RandomSignals.ipynb#Applications)\n",
    "    * [Matched filter](Lecture3_RandomSignals.ipynb#Matched-filter)\n",
    "        * [Matched filter - Experiment](Lecture3_RandomSignals.ipynb#Matched-filter---Experiment)\n",
    "    * [Wiener filtering](Lecture3_RandomSignals.ipynb#Wiener-filtering)\n",
    "        * [Introduction](Lecture3_RandomSignals.ipynb#Introduction)\n",
    "        * [Illustrative experiment](Lecture3_RandomSignals.ipynb#Illustrative-experiment)\n",
    "        * [Derivation of the Wiener filter](Lecture3_RandomSignals.ipynb#Derivation-of-the-Wiener-filter)\n",
    "        * [Experiment](Lecture3_RandomSignals.ipynb#Experiment)\n",
    "        * [Wiener Smoother in the time domain](Lecture3_RandomSignals.ipynb#Wiener-Smoother-in-the-time-domain)"
   ]
  },
  {
   "cell_type": "markdown",
   "metadata": {},
   "source": [
    "[XIII - Adaptive Filters](Optimum_filtering.ipynb#Adaptive-Filters)\n",
    "\n",
    "* [A general filtering problem](Optimum_filtering.ipynb#A-general-filtering-problem)\n",
    "    * [Introduction](Optimum_filtering.ipynb#Introduction)\n",
    "    * [The Linear Minimum Mean Square Error Estimator](Optimum_filtering.ipynb#The-Linear-Minimum-Mean-Square-Error-Estimator)\n",
    "    * [The Least Square Error Estimator](Optimum_filtering.ipynb#The-Least-Square-Error-Estimator)\n",
    "    * [Application to filter identification](Optimum_filtering.ipynb#Application-to-filter-identification)\n",
    "\n",
    "* [The steepest descent algorithm](Grad_algo.ipynb#The-steepest-descent-algorithm)\n",
    "* [Application to the iterative resolution of the normal equations](Grad_algo.ipynb#Application-to-the-iterative-resolution-of-the-normal-equations)\n",
    "    * [Convergence analysis](Grad_algo.ipynb#Convergence-analysis)\n",
    "        * [Conditions on the step-size](Grad_algo.ipynb#Conditions-on-the-step-size)\n",
    "        * [Optimum step-size](Grad_algo.ipynb#Optimum-step-size)\n",
    "    * [An alternative view of the Steepest Descent Algorithm ](Grad_algo.ipynb#An-alternative-view-of-the-Steepest-Descent-Algorithm)\n",
    "        * [The sum of $n$ terms of a geometric series of matrices](Grad_algo.ipynb#The-sum-of-$n$-terms-of-a-geometric-series-of-matrices)\n",
    "        * [An iterative formula for computing the solution of the normal equation](Grad_algo.ipynb#An-iterative-formula-for-computing-the-solution-of-the-normal-equation)\n",
    "\n",
    "* [Adaptive versions](Adaptive_versions.ipynb#Adaptive-versions)\n",
    "    * [The Least Mean Square (LMS) Algorithm ](Adaptive_versions.ipynb#The-Least-Mean-Square-%28LMS%29-Algorithm)\n",
    "    * [Illustation of the LMS in an identification problem](Adaptive_versions.ipynb#Illustation-of-the-LMS-in-an-identification-problem)\n",
    "        * [Identification procedure](Adaptive_versions.ipynb#Identification-procedure)\n",
    "        * [Stability of results](Adaptive_versions.ipynb#Stability-of-results)\n",
    "        * [Study with respect to $\\mu$](#Study-with-respect-to-$\\mu$)\n",
    "        * [Tracking capabilities](Adaptive_versions.ipynb#Tracking-capabilities)\n",
    "    * [Convergence properties of the LMS\n",
    "](Adaptive_versions.ipynb#Convergence-properties-of-the-LMS)\n",
    "    * [The normalized LMS](Adaptive_versions.ipynb#The-normalized-LMS)\n",
    "    * [Other variants of the LMS](Adaptive_versions.ipynb#Other-variants-of-the-LMS)\n",
    "\t* [Recursive Least Squares](Adaptive_versions.ipynb#Recursive-Least-Squares)\n",
    "    * [Experimentation -- Noise cancellation ](noisecancellationlab.ipynb#Experimentation----Noise-cancellation)\n",
    "\t\t* [Implementation of the noise canceller](#Implementation-of-the-noise-canceller)\n",
    "\t\t* [First experiment ](noisecancellationlab.ipynb#First-experiment)\n",
    "\t\t* [Second experiment](noisecancellationlab.ipynb#Second-experiment)\n",
    "\t\t* [Corrupted speech](noisecancellationlab.ipynb#Corrupted-speech)\n"
   ]
  },
  {
   "cell_type": "markdown",
   "metadata": {},
   "source": [
    "<div align=right  > \n",
    "<a style=\"color: blue; font-size: 120%; font-family: sans-serif; font-weight: bold\" href=\"./Poly.pdf\"> [PDF Version]</a> \n",
    "</div>"
   ]
  },
  {
   "cell_type": "markdown",
   "metadata": {},
   "source": [
    "<div align=center> (c) J.-F. Bercher 2014-18 </div>"
   ]
  },
  {
   "cell_type": "markdown",
   "metadata": {},
   "source": [
    "![Alt text](jolie_fin_de_page.png)"
   ]
  }
 ],
 "metadata": {
  "hide_input": false,
  "interactive_sols": {
   "cbx_id": 1
  },
  "kernelspec": {
   "display_name": "Julia 1.10.4",
   "language": "julia",
   "name": "julia-1.10"
  },
  "language_info": {
   "file_extension": ".jl",
   "mimetype": "application/julia",
   "name": "julia",
   "version": "1.10.4"
  },
  "latex_envs": {
   "LaTeX_envs_menu_present": true,
   "autoclose": false,
   "autocomplete": true,
   "bibliofile": "biblio.bib",
   "cite_by": "apalike",
   "current_citInitial": 1,
   "eqLabelWithNumbers": true,
   "eqNumInitial": 0,
   "hotkeys": {
    "equation": "ctrl-e"
   },
   "labels_anchors": false,
   "latex_user_defs": false,
   "report_style_numbering": false,
   "user_envs_cfg": false
  },
  "nav_menu": {},
  "nbTranslate": {
   "displayLangs": [
    "*"
   ],
   "hotkey": "alt-t",
   "langInMainMenu": true,
   "sourceLang": "en",
   "targetLang": "fr",
   "useGoogleTranslate": true
  },
  "toc": {
   "base_numbering": "1",
   "nav_menu": {
    "height": "12px",
    "width": "252px"
   },
   "number_sections": true,
   "sideBar": true,
   "skip_h1_title": false,
   "title_cell": "Table of Contents",
   "title_sidebar": "Contents",
   "toc_cell": false,
   "toc_position": {},
   "toc_section_display": "block",
   "toc_window_display": false
  },
  "varInspector": {
   "cols": {
    "lenName": 16,
    "lenType": 16,
    "lenVar": 40
   },
   "kernels_config": {
    "python": {
     "delete_cmd_postfix": "",
     "delete_cmd_prefix": "del ",
     "library": "var_list.py",
     "varRefreshCmd": "print(var_dic_list())"
    },
    "r": {
     "delete_cmd_postfix": ") ",
     "delete_cmd_prefix": "rm(",
     "library": "var_list.r",
     "varRefreshCmd": "cat(var_dic_list()) "
    }
   },
   "types_to_exclude": [
    "module",
    "function",
    "builtin_function_or_method",
    "instance",
    "_Feature"
   ],
   "window_display": false
  }
 },
 "nbformat": 4,
 "nbformat_minor": 4
}
